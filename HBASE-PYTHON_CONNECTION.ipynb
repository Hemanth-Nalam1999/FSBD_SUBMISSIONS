{
 "cells": [
  {
   "cell_type": "markdown",
   "id": "66509205",
   "metadata": {},
   "source": [
    "# Here We made HBASE Connection With Python and executed some commands for data insertion ,data deletion, data scan, batch execution"
   ]
  },
  {
   "cell_type": "code",
   "execution_count": 1,
   "id": "bbd73c07",
   "metadata": {},
   "outputs": [],
   "source": [
    "#pip install happybase"
   ]
  },
  {
   "cell_type": "code",
   "execution_count": 38,
   "id": "c3310855",
   "metadata": {},
   "outputs": [],
   "source": [
    "import happybase\n",
    "\n",
    "connection = happybase.Connection('192.168.56.101')\n",
    "table = connection.table('customer')"
   ]
  },
  {
   "cell_type": "code",
   "execution_count": null,
   "id": "0aaab6dc",
   "metadata": {},
   "outputs": [],
   "source": []
  },
  {
   "cell_type": "code",
   "execution_count": 3,
   "id": "8e16a231",
   "metadata": {},
   "outputs": [
    {
     "data": {
      "text/plain": [
       "[b'customer', b'employee', b'employee_1']"
      ]
     },
     "execution_count": 3,
     "metadata": {},
     "output_type": "execute_result"
    }
   ],
   "source": [
    "connection.tables()"
   ]
  },
  {
   "cell_type": "code",
   "execution_count": null,
   "id": "4763cbc4",
   "metadata": {},
   "outputs": [],
   "source": []
  },
  {
   "cell_type": "code",
   "execution_count": 4,
   "id": "c97cc920",
   "metadata": {},
   "outputs": [
    {
     "data": {
      "text/plain": [
       "True"
      ]
     },
     "execution_count": 4,
     "metadata": {},
     "output_type": "execute_result"
    }
   ],
   "source": [
    "connection.is_table_enabled(b'customer')"
   ]
  },
  {
   "cell_type": "code",
   "execution_count": null,
   "id": "5036dc5d",
   "metadata": {},
   "outputs": [],
   "source": []
  },
  {
   "cell_type": "code",
   "execution_count": 5,
   "id": "9c56d703",
   "metadata": {},
   "outputs": [],
   "source": [
    "row = table.row(b'Ramu')"
   ]
  },
  {
   "cell_type": "code",
   "execution_count": 6,
   "id": "d37e9ee0",
   "metadata": {},
   "outputs": [
    {
     "data": {
      "text/plain": [
       "{b'address:State': b'Karnataka',\n",
       " b'address:city': b'Banglore',\n",
       " b'address:street': b'whitefields',\n",
       " b'order:amount': b'20000',\n",
       " b'order:number': b'ord-02'}"
      ]
     },
     "execution_count": 6,
     "metadata": {},
     "output_type": "execute_result"
    }
   ],
   "source": [
    "row"
   ]
  },
  {
   "cell_type": "code",
   "execution_count": null,
   "id": "854235bd",
   "metadata": {},
   "outputs": [],
   "source": []
  },
  {
   "cell_type": "code",
   "execution_count": 7,
   "id": "2c671316",
   "metadata": {},
   "outputs": [
    {
     "name": "stdout",
     "output_type": "stream",
     "text": [
      "b'ord-02'\n"
     ]
    }
   ],
   "source": [
    "print(row[b'order:number'])"
   ]
  },
  {
   "cell_type": "code",
   "execution_count": null,
   "id": "7b057889",
   "metadata": {},
   "outputs": [],
   "source": []
  },
  {
   "cell_type": "code",
   "execution_count": 8,
   "id": "957be08b",
   "metadata": {},
   "outputs": [
    {
     "name": "stdout",
     "output_type": "stream",
     "text": [
      "b'Hemanth' {b'address:city': b'Hyderabad', b'address:state': b'Telangana', b'address:street': b'madhapur', b'order:amount': b'232323', b'order:number': b'ord-01'}\n",
      "b'Ramu' {b'address:State': b'Karnataka', b'address:city': b'Banglore', b'address:street': b'whitefields', b'order:amount': b'20000', b'order:number': b'ord-02'}\n"
     ]
    }
   ],
   "source": [
    "rows = table.rows([b'Hemanth', b'Ramu'])\n",
    "for key, data in rows:\n",
    "    print(key, data)"
   ]
  },
  {
   "cell_type": "code",
   "execution_count": null,
   "id": "22b71d59",
   "metadata": {},
   "outputs": [],
   "source": []
  },
  {
   "cell_type": "code",
   "execution_count": 9,
   "id": "b1181950",
   "metadata": {},
   "outputs": [],
   "source": [
    "rows_as_dict = dict(table.rows([b'Hemanth', b'Ramu']))"
   ]
  },
  {
   "cell_type": "code",
   "execution_count": 10,
   "id": "4f8c667d",
   "metadata": {},
   "outputs": [
    {
     "data": {
      "text/plain": [
       "{b'Hemanth': {b'address:city': b'Hyderabad',\n",
       "  b'address:state': b'Telangana',\n",
       "  b'address:street': b'madhapur',\n",
       "  b'order:amount': b'232323',\n",
       "  b'order:number': b'ord-01'},\n",
       " b'Ramu': {b'address:State': b'Karnataka',\n",
       "  b'address:city': b'Banglore',\n",
       "  b'address:street': b'whitefields',\n",
       "  b'order:amount': b'20000',\n",
       "  b'order:number': b'ord-02'}}"
      ]
     },
     "execution_count": 10,
     "metadata": {},
     "output_type": "execute_result"
    }
   ],
   "source": [
    "rows_as_dict"
   ]
  },
  {
   "cell_type": "code",
   "execution_count": null,
   "id": "0ee51197",
   "metadata": {},
   "outputs": [],
   "source": []
  },
  {
   "cell_type": "code",
   "execution_count": 11,
   "id": "22a3e383",
   "metadata": {},
   "outputs": [],
   "source": [
    "from collections import OrderedDict\n",
    "rows_as_ordered_dict = OrderedDict(table.rows([b'Hemanth', b'Ramu']))"
   ]
  },
  {
   "cell_type": "code",
   "execution_count": 12,
   "id": "acce10b4",
   "metadata": {},
   "outputs": [
    {
     "data": {
      "text/plain": [
       "OrderedDict([(b'Hemanth',\n",
       "              {b'address:city': b'Hyderabad',\n",
       "               b'address:state': b'Telangana',\n",
       "               b'address:street': b'madhapur',\n",
       "               b'order:amount': b'232323',\n",
       "               b'order:number': b'ord-01'}),\n",
       "             (b'Ramu',\n",
       "              {b'address:State': b'Karnataka',\n",
       "               b'address:city': b'Banglore',\n",
       "               b'address:street': b'whitefields',\n",
       "               b'order:amount': b'20000',\n",
       "               b'order:number': b'ord-02'})])"
      ]
     },
     "execution_count": 12,
     "metadata": {},
     "output_type": "execute_result"
    }
   ],
   "source": [
    "rows_as_ordered_dict"
   ]
  },
  {
   "cell_type": "code",
   "execution_count": null,
   "id": "8ed829ab",
   "metadata": {},
   "outputs": [],
   "source": []
  },
  {
   "cell_type": "code",
   "execution_count": 13,
   "id": "23c50302",
   "metadata": {},
   "outputs": [
    {
     "name": "stdout",
     "output_type": "stream",
     "text": [
      "b'Telangana'\n",
      "b'ord-01'\n"
     ]
    }
   ],
   "source": [
    "row = table.row(b'Hemanth', columns=[b'address:state', b'order:number'])\n",
    "print(row[b'address:state'])\n",
    "print(row[b'order:number'])"
   ]
  },
  {
   "cell_type": "code",
   "execution_count": null,
   "id": "3089229a",
   "metadata": {},
   "outputs": [],
   "source": []
  },
  {
   "cell_type": "code",
   "execution_count": 14,
   "id": "759e7941",
   "metadata": {},
   "outputs": [],
   "source": [
    "row = table.row(b'Hemanth', columns=[b'order:number'], include_timestamp=True)\n",
    "value, timestamp = row[b'order:number']"
   ]
  },
  {
   "cell_type": "code",
   "execution_count": null,
   "id": "7b550f03",
   "metadata": {},
   "outputs": [],
   "source": []
  },
  {
   "cell_type": "code",
   "execution_count": 15,
   "id": "f1f67a5a",
   "metadata": {},
   "outputs": [
    {
     "name": "stdout",
     "output_type": "stream",
     "text": [
      "b'ord-01' 1665902089881\n"
     ]
    }
   ],
   "source": [
    "print(value,timestamp)"
   ]
  },
  {
   "cell_type": "code",
   "execution_count": null,
   "id": "15e4f456",
   "metadata": {},
   "outputs": [],
   "source": []
  },
  {
   "cell_type": "code",
   "execution_count": 16,
   "id": "359df470",
   "metadata": {},
   "outputs": [
    {
     "name": "stdout",
     "output_type": "stream",
     "text": [
      "b'Hemanth' {b'address:city': b'Hyderabad', b'address:state': b'Telangana', b'address:street': b'madhapur', b'order:amount': b'232323', b'order:number': b'ord-01'}\n",
      "b'Ramu' {b'address:State': b'Karnataka', b'address:city': b'Banglore', b'address:street': b'whitefields', b'order:amount': b'20000', b'order:number': b'ord-02'}\n",
      "b'vishal' {b'address:city': b'jaipur', b'address:state': b'Rajesthan', b'order:amount': b'30000'}\n"
     ]
    }
   ],
   "source": [
    "for key, data in table.scan():\n",
    "    print(key, data)"
   ]
  },
  {
   "cell_type": "code",
   "execution_count": null,
   "id": "8822ee7e",
   "metadata": {},
   "outputs": [],
   "source": []
  },
  {
   "cell_type": "code",
   "execution_count": 17,
   "id": "f98f03a5",
   "metadata": {},
   "outputs": [
    {
     "name": "stdout",
     "output_type": "stream",
     "text": [
      "b'Hemanth' {b'address:city': b'Hyderabad', b'address:state': b'Telangana', b'address:street': b'madhapur', b'order:amount': b'232323', b'order:number': b'ord-01'}\n",
      "b'Ramu' {b'address:State': b'Karnataka', b'address:city': b'Banglore', b'address:street': b'whitefields', b'order:amount': b'20000', b'order:number': b'ord-02'}\n",
      "b'vishal' {b'address:city': b'jaipur', b'address:state': b'Rajesthan', b'order:amount': b'30000'}\n"
     ]
    }
   ],
   "source": [
    "for key, data in table.scan(row_start=b'Hemanth'):\n",
    "    print(key, data)"
   ]
  },
  {
   "cell_type": "code",
   "execution_count": null,
   "id": "02323282",
   "metadata": {},
   "outputs": [],
   "source": []
  },
  {
   "cell_type": "code",
   "execution_count": 27,
   "id": "32e572ec",
   "metadata": {},
   "outputs": [],
   "source": [
    "table.put(b'vishal', {b'address:state': b'Rajesthan',\n",
    "                       b'address:city': b'jaipur'})"
   ]
  },
  {
   "cell_type": "code",
   "execution_count": null,
   "id": "140036a0",
   "metadata": {},
   "outputs": [],
   "source": []
  },
  {
   "cell_type": "code",
   "execution_count": 19,
   "id": "ca3b02c1",
   "metadata": {},
   "outputs": [
    {
     "name": "stdout",
     "output_type": "stream",
     "text": [
      "b'Hemanth' {b'address:city': b'Hyderabad', b'address:state': b'Telangana', b'address:street': b'madhapur', b'order:amount': b'232323', b'order:number': b'ord-01'}\n",
      "b'Ramu' {b'address:State': b'Karnataka', b'address:city': b'Banglore', b'address:street': b'whitefields', b'order:amount': b'20000', b'order:number': b'ord-02'}\n",
      "b'vishal' {b'address:city': b'jaipur', b'address:state': b'Rajesthan', b'order:amount': b'30000'}\n"
     ]
    }
   ],
   "source": [
    "for key, data in table.scan():\n",
    "    print(key, data)"
   ]
  },
  {
   "cell_type": "code",
   "execution_count": null,
   "id": "2ade7bd6",
   "metadata": {},
   "outputs": [],
   "source": []
  },
  {
   "cell_type": "code",
   "execution_count": 20,
   "id": "da1116e3",
   "metadata": {},
   "outputs": [
    {
     "name": "stdout",
     "output_type": "stream",
     "text": [
      "b'vishal' {b'address:city': b'jaipur', b'address:state': b'Rajesthan', b'order:amount': b'30000'}\n"
     ]
    }
   ],
   "source": [
    "for key, data in table.scan(row_prefix=b'vishal'):\n",
    "    print(key, data)"
   ]
  },
  {
   "cell_type": "code",
   "execution_count": null,
   "id": "350c160b",
   "metadata": {},
   "outputs": [],
   "source": []
  },
  {
   "cell_type": "code",
   "execution_count": 23,
   "id": "0b672907",
   "metadata": {},
   "outputs": [],
   "source": [
    "table.delete(b'vishal')"
   ]
  },
  {
   "cell_type": "code",
   "execution_count": null,
   "id": "62958ce7",
   "metadata": {},
   "outputs": [],
   "source": []
  },
  {
   "cell_type": "code",
   "execution_count": 28,
   "id": "e465a6b1",
   "metadata": {},
   "outputs": [
    {
     "name": "stdout",
     "output_type": "stream",
     "text": [
      "b'Hemanth' {b'address:city': b'Hyderabad', b'address:state': b'Telangana', b'address:street': b'madhapur', b'order:amount': b'232323', b'order:number': b'ord-01'}\n",
      "b'Ramu' {b'address:State': b'Karnataka', b'address:city': b'Banglore', b'address:street': b'whitefields', b'order:amount': b'20000', b'order:number': b'ord-02'}\n",
      "b'vishal' {b'address:city': b'jaipur', b'address:state': b'Rajesthan'}\n"
     ]
    }
   ],
   "source": [
    "for key, data in table.scan():\n",
    "    print(key, data)"
   ]
  },
  {
   "cell_type": "code",
   "execution_count": null,
   "id": "a62374a0",
   "metadata": {},
   "outputs": [],
   "source": []
  },
  {
   "cell_type": "code",
   "execution_count": 29,
   "id": "09f33dad",
   "metadata": {},
   "outputs": [],
   "source": [
    "table.delete(b'vishal', columns=[b'address:city', b'order:amount'])"
   ]
  },
  {
   "cell_type": "code",
   "execution_count": null,
   "id": "4f976ff3",
   "metadata": {},
   "outputs": [],
   "source": []
  },
  {
   "cell_type": "code",
   "execution_count": 30,
   "id": "d07c8045",
   "metadata": {},
   "outputs": [
    {
     "name": "stdout",
     "output_type": "stream",
     "text": [
      "b'Hemanth' {b'address:city': b'Hyderabad', b'address:state': b'Telangana', b'address:street': b'madhapur', b'order:amount': b'232323', b'order:number': b'ord-01'}\n",
      "b'Ramu' {b'address:State': b'Karnataka', b'address:city': b'Banglore', b'address:street': b'whitefields', b'order:amount': b'20000', b'order:number': b'ord-02'}\n",
      "b'vishal' {b'address:state': b'Rajesthan'}\n"
     ]
    }
   ],
   "source": [
    "for key, data in table.scan():\n",
    "    print(key, data)"
   ]
  },
  {
   "cell_type": "code",
   "execution_count": null,
   "id": "d62914b1",
   "metadata": {},
   "outputs": [],
   "source": []
  },
  {
   "cell_type": "code",
   "execution_count": 31,
   "id": "a6ec1d23",
   "metadata": {},
   "outputs": [],
   "source": [
    "table.delete(b'vishal')"
   ]
  },
  {
   "cell_type": "code",
   "execution_count": null,
   "id": "09e13c74",
   "metadata": {},
   "outputs": [],
   "source": []
  },
  {
   "cell_type": "code",
   "execution_count": 32,
   "id": "bfcac894",
   "metadata": {},
   "outputs": [
    {
     "name": "stdout",
     "output_type": "stream",
     "text": [
      "b'Hemanth' {b'address:city': b'Hyderabad', b'address:state': b'Telangana', b'address:street': b'madhapur', b'order:amount': b'232323', b'order:number': b'ord-01'}\n",
      "b'Ramu' {b'address:State': b'Karnataka', b'address:city': b'Banglore', b'address:street': b'whitefields', b'order:amount': b'20000', b'order:number': b'ord-02'}\n"
     ]
    }
   ],
   "source": [
    "for key, data in table.scan():\n",
    "    print(key, data)"
   ]
  },
  {
   "cell_type": "code",
   "execution_count": null,
   "id": "762a9696",
   "metadata": {},
   "outputs": [],
   "source": []
  },
  {
   "cell_type": "code",
   "execution_count": 35,
   "id": "c07fecc6",
   "metadata": {},
   "outputs": [],
   "source": [
    "b = table.batch()\n",
    "b.put(b'krish', {b'address:state': b'karnataka', b'address:city': b'banglore'})\n",
    "b.put(b'sunny', {b'order:amount': b'25000', b'order:number': b'ord_o3'})\n",
    "b.put(b'krish', {b'order:status': b'Delivered', b'order:rating': b'Good'})\n",
    "b.delete(b'vishal')\n",
    "b.send()"
   ]
  },
  {
   "cell_type": "code",
   "execution_count": null,
   "id": "c8afef34",
   "metadata": {},
   "outputs": [],
   "source": []
  },
  {
   "cell_type": "code",
   "execution_count": 36,
   "id": "8708b3ad",
   "metadata": {},
   "outputs": [
    {
     "name": "stdout",
     "output_type": "stream",
     "text": [
      "b'Hemanth' {b'address:city': b'Hyderabad', b'address:state': b'Telangana', b'address:street': b'madhapur', b'order:amount': b'232323', b'order:number': b'ord-01'}\n",
      "b'Ramu' {b'address:State': b'Karnataka', b'address:city': b'Banglore', b'address:street': b'whitefields', b'order:amount': b'20000', b'order:number': b'ord-02'}\n",
      "b'krish' {b'address:city': b'banglore', b'address:state': b'karnataka', b'order:rating': b'Good', b'order:status': b'Delivered'}\n",
      "b'sunny' {b'order:amount': b'25000', b'order:number': b'ord_o3'}\n"
     ]
    }
   ],
   "source": [
    "for key, data in table.scan():\n",
    "    print(key, data)"
   ]
  },
  {
   "cell_type": "code",
   "execution_count": null,
   "id": "7d2dbefe",
   "metadata": {},
   "outputs": [],
   "source": []
  },
  {
   "cell_type": "code",
   "execution_count": 39,
   "id": "206ed50f",
   "metadata": {},
   "outputs": [],
   "source": [
    "b = table.batch()\n",
    "try:\n",
    "    b.put(b'sharma', {b'address:state': b'karnataka', b'address:city': b'banglore'})\n",
    "    b.put(b'sohel', {b'order:amount': b'25000', b'order:number': b'ord_o3'})\n",
    "    b.put(b'wasim', {b'order:status': b'Delivered', b'order:rating': b'Good'})\n",
    "    b.delete(b'sunny')\n",
    "    b.send()\n",
    "    raise ValueError(\"Something went wrong!\")\n",
    "except ValueError as e:\n",
    "    # error handling goes here; nothing will be sent to HBase\n",
    "    pass\n",
    "else:\n",
    "    # no exceptions; send data\n",
    "    b.send()"
   ]
  },
  {
   "cell_type": "code",
   "execution_count": null,
   "id": "ae60f31c",
   "metadata": {},
   "outputs": [],
   "source": []
  },
  {
   "cell_type": "code",
   "execution_count": 40,
   "id": "0522efeb",
   "metadata": {},
   "outputs": [
    {
     "name": "stdout",
     "output_type": "stream",
     "text": [
      "b'Hemanth' {b'address:city': b'Hyderabad', b'address:state': b'Telangana', b'address:street': b'madhapur', b'order:amount': b'232323', b'order:number': b'ord-01'}\n",
      "b'Ramu' {b'address:State': b'Karnataka', b'address:city': b'Banglore', b'address:street': b'whitefields', b'order:amount': b'20000', b'order:number': b'ord-02'}\n",
      "b'krish' {b'address:city': b'banglore', b'address:state': b'karnataka', b'order:rating': b'Good', b'order:status': b'Delivered'}\n",
      "b'sharma' {b'address:city': b'banglore', b'address:state': b'karnataka'}\n",
      "b'sohel' {b'order:amount': b'25000', b'order:number': b'ord_o3'}\n",
      "b'wasim' {b'order:rating': b'Good', b'order:status': b'Delivered'}\n"
     ]
    }
   ],
   "source": [
    "for key, data in table.scan():\n",
    "    print(key, data)"
   ]
  },
  {
   "cell_type": "code",
   "execution_count": null,
   "id": "30c2dcb8",
   "metadata": {},
   "outputs": [],
   "source": []
  }
 ],
 "metadata": {
  "kernelspec": {
   "display_name": "Python 3 (ipykernel)",
   "language": "python",
   "name": "python3"
  },
  "language_info": {
   "codemirror_mode": {
    "name": "ipython",
    "version": 3
   },
   "file_extension": ".py",
   "mimetype": "text/x-python",
   "name": "python",
   "nbconvert_exporter": "python",
   "pygments_lexer": "ipython3",
   "version": "3.9.12"
  }
 },
 "nbformat": 4,
 "nbformat_minor": 5
}
